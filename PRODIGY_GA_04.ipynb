{
  "cells": [
    {
      "cell_type": "markdown",
      "metadata": {
        "id": "view-in-github",
        "colab_type": "text"
      },
      "source": [
        "<a href=\"https://colab.research.google.com/github/hellizer4u/GenAi-Task04/blob/main/PRODIGY_GA_04.ipynb\" target=\"_parent\"><img src=\"https://colab.research.google.com/assets/colab-badge.svg\" alt=\"Open In Colab\"/></a>"
      ]
    },
    {
      "cell_type": "code",
      "execution_count": null,
      "metadata": {
        "id": "VWD6bIztGG04"
      },
      "outputs": [],
      "source": [
        "import time\n"
      ]
    },
    {
      "cell_type": "code",
      "execution_count": null,
      "metadata": {
        "id": "GdFvaOAwAzSW"
      },
      "outputs": [],
      "source": [
        "# Install TensorFlow (usually pre-installed in Colab)\n",
        "!pip install tensorflow\n",
        "\n",
        "# Install TensorFlow Datasets (optional for info)\n",
        "!pip install tensorflow-datasets\n"
      ]
    },
    {
      "cell_type": "code",
      "execution_count": null,
      "metadata": {
        "id": "teAydLgOB3wt"
      },
      "outputs": [],
      "source": [
        "!wget http://efrosgans.eecs.berkeley.edu/pix2pix/datasets/facades.tar.gz\n",
        "!tar -xvzf facades.tar.gz\n"
      ]
    },
    {
      "cell_type": "code",
      "execution_count": null,
      "metadata": {
        "id": "LIz5T2HPBE7P"
      },
      "outputs": [],
      "source": [
        "import tensorflow as tf\n",
        "import numpy as np\n",
        "from glob import glob\n",
        "from PIL import Image\n",
        "\n",
        "# Image loading & preprocessing function\n",
        "def load_image(filename):\n",
        "    image = Image.open(filename)\n",
        "    image = image.resize((256, 256))  # Resize to 256x256\n",
        "    image = np.array(image).astype(np.float32)\n",
        "    image = (image / 127.5) - 1  # Normalize to [-1, 1]\n",
        "\n",
        "    w = image.shape[1]\n",
        "    w_half = w // 2\n",
        "\n",
        "    input_image = image[:, :w_half, :]\n",
        "    target_image = image[:, w_half:, :]\n",
        "    return input_image, target_image\n",
        "\n",
        "# TensorFlow wrapper for loading images\n",
        "def tf_load_image(path):\n",
        "    input_img, target_img = tf.numpy_function(load_image, [path], [tf.float32, tf.float32])\n",
        "    input_img.set_shape([256, 128, 3])\n",
        "    target_img.set_shape([256, 128, 3])\n",
        "    return input_img, target_img\n"
      ]
    },
    {
      "cell_type": "code",
      "execution_count": null,
      "metadata": {
        "id": "wX3i-bxSBJ5D"
      },
      "outputs": [],
      "source": [
        "# Get list of training image paths\n",
        "train_paths = glob('facades/train/*.jpg')\n",
        "\n",
        "# Create tf.data.Dataset from paths\n",
        "train_dataset = tf.data.Dataset.from_tensor_slices(train_paths)\n",
        "\n",
        "# Map preprocessing function and batch\n",
        "train_dataset = train_dataset.map(tf_load_image, num_parallel_calls=tf.data.AUTOTUNE)\n",
        "train_dataset = train_dataset.shuffle(buffer_size=400).batch(1).prefetch(tf.data.AUTOTUNE)\n"
      ]
    },
    {
      "cell_type": "code",
      "execution_count": null,
      "metadata": {
        "id": "-nSDqnbXEaHw"
      },
      "outputs": [],
      "source": [
        "from tensorflow.keras import layers\n",
        "\n",
        "def downsample(filters, size, apply_batchnorm=True):\n",
        "    initializer = tf.random_normal_initializer(0., 0.02)\n",
        "    result = tf.keras.Sequential()\n",
        "    result.add(layers.Conv2D(filters, size, strides=2, padding='same',\n",
        "                             kernel_initializer=initializer, use_bias=False))\n",
        "    if apply_batchnorm:\n",
        "        result.add(layers.BatchNormalization())\n",
        "    result.add(layers.LeakyReLU())\n",
        "    return result\n",
        "\n",
        "def upsample(filters, size, apply_dropout=False):\n",
        "    initializer = tf.random_normal_initializer(0., 0.02)\n",
        "    result = tf.keras.Sequential()\n",
        "    result.add(layers.Conv2DTranspose(filters, size, strides=2, padding='same',\n",
        "                                      kernel_initializer=initializer, use_bias=False))\n",
        "    result.add(layers.BatchNormalization())\n",
        "    if apply_dropout:\n",
        "        result.add(layers.Dropout(0.5))\n",
        "    result.add(layers.ReLU())\n",
        "    return result\n",
        "\n",
        "def Generator():\n",
        "    inputs = layers.Input(shape=[256, 128, 3])\n",
        "\n",
        "    down_stack = [\n",
        "        downsample(64, 4, apply_batchnorm=False),  # (128, 64, 64)\n",
        "        downsample(128, 4),  # (64, 32, 128)\n",
        "        downsample(256, 4),  # (32, 16, 256)\n",
        "        downsample(512, 4),  # (16, 8, 512)\n",
        "        downsample(512, 4),  # (8, 4, 512)\n",
        "        downsample(512, 4),  # (4, 2, 512)\n",
        "        downsample(512, 4),  # (2, 1, 512)\n",
        "        downsample(512, 4),  # (1, 1, 512)\n",
        "    ]\n",
        "\n",
        "    up_stack = [\n",
        "        upsample(512, 4, apply_dropout=True),  # (2, 2, 512)\n",
        "        upsample(512, 4, apply_dropout=True),  # (4, 4, 512)\n",
        "        upsample(512, 4, apply_dropout=True),  # (8, 8, 512)\n",
        "        upsample(512, 4),  # (16, 16, 512)\n",
        "        upsample(256, 4),  # (32, 32, 256)\n",
        "        upsample(128, 4),  # (64, 64, 128)\n",
        "        upsample(64, 4),   # (128, 128, 64)\n",
        "    ]\n",
        "\n",
        "    initializer = tf.random_normal_initializer(0., 0.02)\n",
        "    last = layers.Conv2DTranspose(3, 4, strides=2, padding='same',\n",
        "                                  kernel_initializer=initializer, activation='tanh')  # (256, 256, 3)\n",
        "\n",
        "    x = inputs\n",
        "    skips = []\n",
        "    for down in down_stack:\n",
        "        x = down(x)\n",
        "        skips.append(x)\n",
        "    skips = reversed(skips[:-1])\n",
        "\n",
        "    for up, skip in zip(up_stack, skips):\n",
        "        x = up(x)\n",
        "        x = layers.Concatenate()([x, skip])\n",
        "\n",
        "    x = last(x)\n",
        "\n",
        "    return tf.keras.Model(inputs=inputs, outputs=x)\n",
        "\n",
        "def Discriminator():\n",
        "    initializer = tf.random_normal_initializer(0., 0.02)\n",
        "\n",
        "    inp = layers.Input(shape=[256, 128, 3], name='input_image')\n",
        "    tar = layers.Input(shape=[256, 128, 3], name='target_image')\n",
        "\n",
        "    x = layers.concatenate([inp, tar])  # concatenate input and target images\n",
        "\n",
        "    down1 = downsample(64, 4, False)(x)  # (128, 64, 64)\n",
        "    down2 = downsample(128, 4)(down1)    # (64, 32, 128)\n",
        "    down3 = downsample(256, 4)(down2)    # (32, 16, 256)\n",
        "\n",
        "    zero_pad1 = layers.ZeroPadding2D()(down3)  # (34, 18, 256)\n",
        "    conv = layers.Conv2D(512, 4, strides=1,\n",
        "                         kernel_initializer=initializer,\n",
        "                         use_bias=False)(zero_pad1)  # (31, 15, 512)\n",
        "\n",
        "    batchnorm1 = layers.BatchNormalization()(conv)\n",
        "    leaky_relu = layers.LeakyReLU()(batchnorm1)\n",
        "\n",
        "    zero_pad2 = layers.ZeroPadding2D()(leaky_relu)  # (33, 17, 512)\n",
        "\n",
        "    last = layers.Conv2D(1, 4, strides=1,\n",
        "                         kernel_initializer=initializer)(zero_pad2)  # (30, 14, 1)\n",
        "\n",
        "    return tf.keras.Model(inputs=[inp, tar], outputs=last)\n"
      ]
    },
    {
      "cell_type": "code",
      "execution_count": null,
      "metadata": {
        "id": "_6azapOFFc4G"
      },
      "outputs": [],
      "source": [
        "import tensorflow as tf\n",
        "from tensorflow.keras import layers\n",
        "\n",
        "def downsample(filters, size, apply_batchnorm=True):\n",
        "    initializer = tf.random_normal_initializer(0., 0.02)\n",
        "    result = tf.keras.Sequential()\n",
        "    result.add(layers.Conv2D(filters, size, strides=2, padding='same',\n",
        "                             kernel_initializer=initializer, use_bias=False))\n",
        "    if apply_batchnorm:\n",
        "        result.add(layers.BatchNormalization())\n",
        "    result.add(layers.LeakyReLU())\n",
        "    return result\n",
        "\n",
        "def upsample(filters, size, apply_dropout=False):\n",
        "    initializer = tf.random_normal_initializer(0., 0.02)\n",
        "    result = tf.keras.Sequential()\n",
        "    result.add(layers.Conv2DTranspose(filters, size, strides=2,\n",
        "                                      padding='same',\n",
        "                                      kernel_initializer=initializer,\n",
        "                                      use_bias=False))\n",
        "    result.add(layers.BatchNormalization())\n",
        "    if apply_dropout:\n",
        "        result.add(layers.Dropout(0.5))\n",
        "    result.add(layers.ReLU())\n",
        "    return result\n",
        "\n",
        "class Generator(tf.keras.Model):\n",
        "    def __init__(self):\n",
        "        super(Generator, self).__init__()\n",
        "        self.down1 = downsample(64, 4, apply_batchnorm=False)  # (bs, 128, 128, 64)\n",
        "        self.down2 = downsample(128, 4)                        # (bs, 64, 64, 128)\n",
        "        self.down3 = downsample(256, 4)                        # (bs, 32, 32, 256)\n",
        "        self.down4 = downsample(512, 4)                        # (bs, 16, 16, 512)\n",
        "        self.down5 = downsample(512, 4)                        # (bs, 8, 8, 512)\n",
        "        self.down6 = downsample(512, 4)                        # (bs, 4, 4, 512)\n",
        "        self.down7 = downsample(512, 4)                        # (bs, 2, 2, 512)\n",
        "        self.down8 = downsample(512, 4, apply_batchnorm=False) # (bs, 1, 1, 512)\n",
        "\n",
        "        self.up1 = upsample(512, 4, apply_dropout=True)        # (bs, 2, 2, 512)\n",
        "        self.up2 = upsample(512, 4, apply_dropout=True)        # (bs, 4, 4, 512)\n",
        "        self.up3 = upsample(512, 4, apply_dropout=True)        # (bs, 8, 8, 512)\n",
        "        self.up4 = upsample(512, 4)                            # (bs, 16, 16, 512)\n",
        "        self.up5 = upsample(256, 4)                            # (bs, 32, 32, 256)\n",
        "        self.up6 = upsample(128, 4)                            # (bs, 64, 64, 128)\n",
        "        self.up7 = upsample(64, 4)                             # (bs, 128, 128, 64)\n",
        "\n",
        "        self.last = layers.Conv2DTranspose(3, 4, strides=2,\n",
        "                                           padding='same',\n",
        "                                           kernel_initializer=tf.random_normal_initializer(0., 0.02),\n",
        "                                           activation='tanh')  # (bs, 256, 256, 3)\n",
        "\n",
        "    def call(self, x):\n",
        "        # Downsampling through the model\n",
        "        d1 = self.down1(x)\n",
        "        d2 = self.down2(d1)\n",
        "        d3 = self.down3(d2)\n",
        "        d4 = self.down4(d3)\n",
        "        d5 = self.down5(d4)\n",
        "        d6 = self.down6(d5)\n",
        "        d7 = self.down7(d6)\n",
        "        d8 = self.down8(d7)\n",
        "\n",
        "        # Upsampling and establishing the skip connections\n",
        "        u1 = self.up1(d8)\n",
        "        u1 = tf.concat([u1, d7], axis=-1)\n",
        "        u2 = self.up2(u1)\n",
        "        u2 = tf.concat([u2, d6], axis=-1)\n",
        "        u3 = self.up3(u2)\n",
        "        u3 = tf.concat([u3, d5], axis=-1)\n",
        "        u4 = self.up4(u3)\n",
        "        u4 = tf.concat([u4, d4], axis=-1)\n",
        "        u5 = self.up5(u4)\n",
        "        u5 = tf.concat([u5, d3], axis=-1)\n",
        "        u6 = self.up6(u5)\n",
        "        u6 = tf.concat([u6, d2], axis=-1)\n",
        "        u7 = self.up7(u6)\n",
        "        u7 = tf.concat([u7, d1], axis=-1)\n",
        "\n",
        "        return self.last(u7)\n"
      ]
    },
    {
      "cell_type": "code",
      "execution_count": null,
      "metadata": {
        "id": "9MPt-KE2EeS-"
      },
      "outputs": [],
      "source": [
        "loss_object = tf.keras.losses.BinaryCrossentropy(from_logits=True)\n",
        "\n",
        "def discriminator_loss(disc_real_output, disc_generated_output):\n",
        "    real_loss = loss_object(tf.ones_like(disc_real_output), disc_real_output)\n",
        "    generated_loss = loss_object(tf.zeros_like(disc_generated_output), disc_generated_output)\n",
        "    total_disc_loss = real_loss + generated_loss\n",
        "    return total_disc_loss\n",
        "\n",
        "def generator_loss(disc_generated_output, gen_output, target):\n",
        "    gan_loss = loss_object(tf.ones_like(disc_generated_output), disc_generated_output)\n",
        "    # L1 loss for pix2pix\n",
        "    l1_loss = tf.reduce_mean(tf.abs(target - gen_output))\n",
        "    total_gen_loss = gan_loss + (100 * l1_loss)\n",
        "    return total_gen_loss\n",
        "\n",
        "generator = Generator()\n",
        "discriminator = Discriminator()\n",
        "\n",
        "generator_optimizer = tf.keras.optimizers.Adam(2e-4, beta_1=0.5)\n",
        "discriminator_optimizer = tf.keras.optimizers.Adam(2e-4, beta_1=0.5)\n"
      ]
    },
    {
      "cell_type": "code",
      "execution_count": null,
      "metadata": {
        "id": "1zdCHZ03FjZp"
      },
      "outputs": [],
      "source": [
        "@tf.function\n",
        "def train_step(input_image, target):\n",
        "    with tf.GradientTape() as gen_tape, tf.GradientTape() as disc_tape:\n",
        "        gen_output = generator(input_image, training=True)\n",
        "\n",
        "        disc_real_output = discriminator([input_image, target], training=True)\n",
        "        disc_generated_output = discriminator([input_image, gen_output], training=True)\n",
        "\n",
        "        gen_loss = generator_loss(disc_generated_output, gen_output, target)\n",
        "        disc_loss = discriminator_loss(disc_real_output, disc_generated_output)\n",
        "\n",
        "    gradients_gen = gen_tape.gradient(gen_loss, generator.trainable_variables)\n",
        "    gradients_disc = disc_tape.gradient(disc_loss, discriminator.trainable_variables)\n",
        "\n",
        "    generator_optimizer.apply_gradients(zip(gradients_gen, generator.trainable_variables))\n",
        "    discriminator_optimizer.apply_gradients(zip(gradients_disc, discriminator.trainable_variables))\n"
      ]
    },
    {
      "cell_type": "code",
      "execution_count": null,
      "metadata": {
        "id": "QoOV-5b_Fk5Y"
      },
      "outputs": [],
      "source": [
        "import time  # <--- add this line\n",
        "\n",
        "EPOCHS = 60\n",
        "\n",
        "for epoch in range(EPOCHS):\n",
        "    start = time.time()\n",
        "\n",
        "    for input_image, target in train_dataset:\n",
        "        train_step(input_image, target)\n",
        "\n",
        "    print(f'Epoch {epoch + 1} completed in {time.time() - start:.2f} seconds')\n"
      ]
    },
    {
      "cell_type": "code",
      "execution_count": null,
      "metadata": {
        "id": "iDhrdazrIOl2"
      },
      "outputs": [],
      "source": [
        "def load_image(filename):\n",
        "    image = Image.open(filename)\n",
        "    image = image.resize((512, 256))  # width=512, height=256\n",
        "    image = np.array(image).astype(np.float32)\n",
        "    image = (image / 127.5) - 1\n",
        "\n",
        "    w = image.shape[1]\n",
        "    w_half = w // 2\n",
        "\n",
        "    input_image = image[:, :w_half, :]\n",
        "    target_image = image[:, w_half:, :]\n",
        "\n",
        "    # Resize to square 256x256\n",
        "    input_image = tf.image.resize(input_image, [256, 256])\n",
        "    target_image = tf.image.resize(target_image, [256, 256])\n",
        "\n",
        "    return input_image, target_image\n"
      ]
    },
    {
      "cell_type": "code",
      "execution_count": null,
      "metadata": {
        "id": "y3rG4RDrISKX"
      },
      "outputs": [],
      "source": [
        "inputs = layers.Input(shape=[256, 256, 3])\n"
      ]
    },
    {
      "cell_type": "code",
      "execution_count": null,
      "metadata": {
        "id": "BkcMN1qIH8xd"
      },
      "outputs": [],
      "source": [
        "def load_image(filename):\n",
        "    image = Image.open(filename)\n",
        "    image = image.resize((286, 256))  # resize slightly bigger for cropping\n",
        "\n",
        "    image = np.array(image).astype(np.float32)\n",
        "    image = (image / 127.5) - 1  # Normalize to [-1, 1]\n",
        "\n",
        "    w = image.shape[1]\n",
        "    w_half = w // 2\n",
        "\n",
        "    input_image = image[:, :w_half, :]\n",
        "    target_image = image[:, w_half:, :]\n",
        "\n",
        "    input_image = tf.image.resize(input_image, [256, 256])\n",
        "    target_image = tf.image.resize(target_image, [256, 256])\n",
        "\n",
        "    return input_image, target_image\n",
        "\n",
        "def tf_load_image(path):\n",
        "    input_img, target_img = tf.numpy_function(load_image, [path], [tf.float32, tf.float32])\n",
        "    input_img.set_shape([256, 256, 3])\n",
        "    target_img.set_shape([256, 256, 3])\n",
        "    return input_img, target_img\n"
      ]
    },
    {
      "cell_type": "code",
      "execution_count": null,
      "metadata": {
        "id": "ScL-_s14JJlY"
      },
      "outputs": [],
      "source": [
        "def Generator():\n",
        "    inputs = tf.keras.layers.Input(shape=[256, 256, 3])\n",
        "    ...\n"
      ]
    },
    {
      "cell_type": "code",
      "execution_count": null,
      "metadata": {
        "id": "HzcuCzKiJMm7"
      },
      "outputs": [],
      "source": [
        "# Create tf.data.Dataset from paths again\n",
        "train_dataset = tf.data.Dataset.from_tensor_slices(train_paths)\n",
        "train_dataset = train_dataset.map(tf_load_image, num_parallel_calls=tf.data.AUTOTUNE)\n",
        "train_dataset = train_dataset.shuffle(buffer_size=400).batch(1).prefetch(tf.data.AUTOTUNE)\n"
      ]
    },
    {
      "cell_type": "code",
      "execution_count": null,
      "metadata": {
        "id": "T5AimwWxJPbv"
      },
      "outputs": [],
      "source": [
        "for epoch in range(EPOCHS):\n",
        "    print(f\"\\nEpoch {epoch+1} started\")\n",
        "    start = time.time()\n",
        "\n",
        "    for step, (input_image, target) in enumerate(train_dataset):\n",
        "        train_step(input_image, target)\n",
        "\n",
        "        if step % 100 == 0:\n",
        "            print(f\"Epoch {epoch+1} Batch {step} done\")\n",
        "\n",
        "    print(f\"Time taken for epoch {epoch+1} is {time.time() - start:.2f} sec\")\n",
        "\n",
        "    generate_images(generator, input_image, target)\n"
      ]
    },
    {
      "cell_type": "code",
      "source": [
        "import matplotlib.pyplot as plt\n",
        "\n",
        "def generate_images(model, input_image, target):\n",
        "    prediction = model(input_image, training=True)\n",
        "    prediction = (prediction + 1) / 2.0  # rescale from [-1, 1] to [0, 1]\n",
        "    input_image = (input_image + 1) / 2.0\n",
        "    target = (target + 1) / 2.0\n",
        "\n",
        "    plt.figure(figsize=(15, 5))\n",
        "\n",
        "    display_list = [input_image[0], target[0], prediction[0]]\n",
        "    title = ['Input Image', 'Target Image', 'Predicted Image']\n",
        "\n",
        "    for i in range(3):\n",
        "        plt.subplot(1, 3, i+1)\n",
        "        plt.title(title[i])\n",
        "        plt.imshow(display_list[i])\n",
        "        plt.axis('off')\n",
        "    plt.show()\n"
      ],
      "metadata": {
        "id": "SIEbIzbDXYdE"
      },
      "execution_count": null,
      "outputs": []
    }
  ],
  "metadata": {
    "accelerator": "GPU",
    "colab": {
      "gpuType": "T4",
      "provenance": [],
      "include_colab_link": true
    },
    "kernelspec": {
      "display_name": "Python 3",
      "name": "python3"
    },
    "language_info": {
      "name": "python"
    }
  },
  "nbformat": 4,
  "nbformat_minor": 0
}